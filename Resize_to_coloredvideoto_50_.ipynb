{
  "nbformat": 4,
  "nbformat_minor": 0,
  "metadata": {
    "colab": {
      "provenance": [],
      "authorship_tag": "ABX9TyMkNwI9VYZ1wZDM63PXQbbW",
      "include_colab_link": true
    },
    "kernelspec": {
      "name": "python3",
      "display_name": "Python 3"
    },
    "language_info": {
      "name": "python"
    }
  },
  "cells": [
    {
      "cell_type": "markdown",
      "metadata": {
        "id": "view-in-github",
        "colab_type": "text"
      },
      "source": [
        "<a href=\"https://colab.research.google.com/github/jarpit2003/Video_to_greyscale/blob/main/Resize_to_coloredvideoto_50_.ipynb\" target=\"_parent\"><img src=\"https://colab.research.google.com/assets/colab-badge.svg\" alt=\"Open In Colab\"/></a>"
      ]
    },
    {
      "cell_type": "code",
      "execution_count": 1,
      "metadata": {
        "colab": {
          "base_uri": "https://localhost:8080/"
        },
        "id": "KbOuGhM7uz76",
        "outputId": "72572422-0806-47b4-b2d5-fbf0b448bb2f"
      },
      "outputs": [
        {
          "output_type": "stream",
          "name": "stdout",
          "text": [
            "Requirement already satisfied: opencv-python in /usr/local/lib/python3.10/dist-packages (4.8.0.76)\n",
            "Requirement already satisfied: numpy>=1.21.2 in /usr/local/lib/python3.10/dist-packages (from opencv-python) (1.25.2)\n"
          ]
        }
      ],
      "source": [
        "pip install opencv-python\n"
      ]
    },
    {
      "cell_type": "code",
      "source": [
        "import cv2\n",
        "\n",
        "input_video_path = 'path/to/your/input/video.mp4'\n",
        "output_video_path = 'path/to/your/output/video_resized.mp4'\n",
        "\n",
        "# Open the input video\n",
        "cap = cv2.VideoCapture(input_video_path)\n",
        "\n",
        "# Get the video frame width, height, and frames per second (fps)\n",
        "frame_width = int(cap.get(cv2.CAP_PROP_FRAME_WIDTH))\n",
        "frame_height = int(cap.get(cv2.CAP_PROP_FRAME_HEIGHT))\n",
        "fps = int(cap.get(cv2.CAP_PROP_FPS))\n",
        "\n",
        "# Calculate the new dimensions (50% of original)\n",
        "new_width = frame_width // 2\n",
        "new_height = frame_height // 2\n",
        "\n",
        "# Define the codec and create VideoWriter object\n",
        "fourcc = cv2.VideoWriter_fourcc(*'mp4v')  # Codec for .mp4 files\n",
        "out = cv2.VideoWriter(output_video_path, fourcc, fps, (new_width, new_height))\n",
        "\n",
        "while True:\n",
        "    ret, frame = cap.read()\n",
        "\n",
        "    if not ret:\n",
        "        break\n",
        "\n",
        "    # Resize the frame to 50%\n",
        "    resized_frame = cv2.resize(frame, (new_width, new_height))\n",
        "\n",
        "    # Write the resized frame to the output video\n",
        "    out.write(resized_frame)\n",
        "\n",
        "    # Display the resulting frame (optional)\n",
        "    cv2.imshow('Resized Video', resized_frame)\n",
        "\n",
        "    # Press 'q' on the keyboard to exit the video display window early (optional)\n",
        "    if cv2.waitKey(1) & 0xFF == ord('q'):\n",
        "        break\n",
        "\n",
        "# Release the video capture and writer objects\n",
        "cap.release()\n",
        "out.release()\n",
        "cv2.destroyAllWindows()\n",
        "\n",
        "print(f\"Resized video saved to {output_video_path}\")\n"
      ],
      "metadata": {
        "id": "bL72D8rBu7A3"
      },
      "execution_count": null,
      "outputs": []
    }
  ]
}